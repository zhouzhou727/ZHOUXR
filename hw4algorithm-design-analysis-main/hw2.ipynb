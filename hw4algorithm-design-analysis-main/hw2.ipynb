{
 "cells": [
  {
   "cell_type": "markdown",
   "metadata": {},
   "source": [
    "## algorithm design and anlysis-2025 spring  homework 2\n",
    "**Deadline**：2025.5.14\n",
    "\n",
    "**name**:\n",
    "\n",
    "\n",
    "note：\n",
    "---\n",
    "1. 带有\\*的题目，申请免上课的同学，必须完成，其他同学选作；\n",
    "2. 请独立完成，如求助了他人或者大模型，请著明，并且不可省略算法分析部分；\n",
    "4. 如若作答有雷同，全部取消成绩；\n",
    "3. 需要书面作答的题目，可以通过引用图片的形式添加，但是注意上传项目时包含所引用的图片的源文件；\n",
    "4. $log_n$ 默认表示$log_2{n}$;"
   ]
  },
  {
   "cell_type": "markdown",
   "metadata": {},
   "source": [
    "## 问题 1  \n",
    "\n",
    "> 给定一个已排序的链表的头 `head` ， *删除所有重复的元素，使每个元素只出现一次* 。返回 *已排序的链表* 。链表的类如下所示：\n",
    "\n",
    "```python\n",
    "class NodeList:\n",
    "    def __init__(self, val=None, right=None):\n",
    "        self.val   = val\n",
    "        self.right = right\n",
    "```\n",
    "\n",
    "输入是一个数组，你首先需要将数组转化为链表，然后删除链表中的重复元素，再遍历链表元素，以一个数组的形式返回。请设计一个算法解决上述任务，分析算法设计思路，计算时间复杂度, 并基于python编程实现。\n",
    "\n",
    "e.g.  输入：head=[1, 1, 2, 3, 3]   输出：[1, 2, 3]\n",
    "\n",
    "![image-20240502110020439](./fig/hw2q1.png)\n",
    "\n"
   ]
  },
  {
   "cell_type": "markdown",
   "metadata": {},
   "source": [
    "idea：  \n",
    "算法思路：先把数组按顺序连成一个链表。链表是有序的，相同的数字一定挨在一起，所以用一个指针p从头开始扫，如果p.val == p.right.val，说明后面那个节点和自己重复，就把p.right指向p.right.right，跳过删除那一项,否则就把p往后挪一步，继续检查下一对。一次遍历下来就把所有相邻的重复都删除掉。最后再从头节点往下走一遍，把每个节点的val收集到一个新数组里返回。  \n",
    "时间复杂度：$O(n)$"
   ]
  },
  {
   "cell_type": "code",
   "metadata": {
    "ExecuteTime": {
     "end_time": "2025-05-13T08:42:37.030687Z",
     "start_time": "2025-05-13T08:42:36.999408Z"
    }
   },
   "source": [
    "class NodeList:\n",
    "    def __init__(self, val=None, right=None):\n",
    "        self.val = val\n",
    "        self.right = right\n",
    "\n",
    "def remove(arr):\n",
    "    if not arr:\n",
    "        return []\n",
    "    head = NodeList(arr[0])\n",
    "    p = head\n",
    "    for x in arr[1:]:\n",
    "        p.right = NodeList(x)\n",
    "        p = p.right\n",
    "    p1 = head\n",
    "    while p1 and p1.right:\n",
    "        if p1.val == p1.right.val:\n",
    "            p1.right = p1.right.right\n",
    "        else:\n",
    "            p1 = p1.right\n",
    "    new = []\n",
    "    p1 = head\n",
    "    while p1:\n",
    "        new.append(p1.val)\n",
    "        p1 = p1.right\n",
    "    return new\n",
    "\n",
    "data = [1, 1, 2, 3, 3]\n",
    "print(remove(data))\n",
    "# your algorithm time complexity is:O(n)"
   ],
   "outputs": [
    {
     "name": "stdout",
     "output_type": "stream",
     "text": [
      "[1, 2, 3]\n"
     ]
    }
   ],
   "execution_count": 1
  },
  {
   "cell_type": "markdown",
   "metadata": {},
   "source": [
    "## 问题 2  \n",
    "\n",
    "> 下面是一个经典的算法问题：\n",
    ">\n",
    "> - 给定包含n个整数的一个整数数组 `nums` 和一个整数目标值 `target`，请你在该数组中找出 **和为目标值** *`target`* 的那 **两个** 整数，并返回它们的**数组下标**。假设每种输入只会对应一个答案。但是，数组中同一个元素在答案里不能重复出现。你可以按任意顺序返回答案。\n",
    ">\n",
    "> 由于要多次查找数组中元素的位置，为了提高查询效率可以使用哈希表来存储数组中的数据，在哈希表中查询一个元素的复杂度为O(1)。 已知python中的字典是使用哈希表实现的，即使用`dict[key]`查询对应的value时间复杂度为O(1), python提供了查询字典是否包含某个key的功能：`key in dict`，时间复杂度也是O(1)\n",
    "\n",
    "请根据上面信息，设计一个时间复杂度为O(n) 的算法，解决上述算法问题\n",
    "\n",
    "e.g.   \n",
    "\n",
    "输入：nums=[2,7,11,15], target=9， 输出：[0，1]\n",
    "\n",
    "输入：nums=[3,2,4], target=6, 输出：[1,2]\n",
    "\n",
    "输入：nums=[3,3], target=6,  输出：[0,1]\n"
   ]
  },
  {
   "cell_type": "code",
   "metadata": {
    "ExecuteTime": {
     "end_time": "2025-05-13T08:42:39.554676Z",
     "start_time": "2025-05-13T08:42:39.544287Z"
    }
   },
   "source": [
    "def target_sum(nums, target):\n",
    "    d = {}\n",
    "    for i, j in enumerate(nums):\n",
    "        num = target - j\n",
    "        if num in d:\n",
    "            return [d[num], i]\n",
    "        d[j] = i\n",
    "\n",
    "print(target_sum([2,7,11,15], 9))\n",
    "print(target_sum([3,2,4], 6))\n",
    "print(target_sum([3,3], 6))\n",
    "# your algorithm time complexity is: O(n)"
   ],
   "outputs": [
    {
     "name": "stdout",
     "output_type": "stream",
     "text": [
      "[0, 1]\n",
      "[1, 2]\n",
      "[0, 1]\n"
     ]
    }
   ],
   "execution_count": 2
  },
  {
   "cell_type": "markdown",
   "metadata": {},
   "source": [
    "## 问题 3:   \n",
    "\n",
    "> 栈是一种常用的数据结构，编译器中通常使用栈来实现表达式求值。\n",
    ">\n",
    "> 以表达式 $3+5 \\times 8-6$​ 为例。编译器使用两个栈来完成运算，即一个栈保持操作数，另一个栈保存运算符。\n",
    ">\n",
    "> 1. 从左向右遍历表达式，遇到数字就压入操作数栈；\n",
    ">\n",
    "> 2. 遇到运算符，就与运算符栈的栈顶元素进行比较。如果比运算符栈顶元素的优先级高，就将当前运算符压入栈；如果比运算符栈顶元素的优先级低或者相同，从运算符栈中取栈顶运算符，从操作数栈的栈顶取 2 个操作数，然后进行计算，再把计算完的结果压入操作数栈，继续比较。\n",
    ">\n",
    "> 下图是 $3+5 \\times 8-6$  这个表达式的计算过程：\n",
    "\n",
    "![figure](./fig/hw2q3.png)\n",
    "\n",
    "根据上述原理，请设计一个算法完成表达式的运算，当输入为表达式字符串，返回对应的计算结果。分析算法设计思路，计算时间复杂度，并基于python编程实现\n",
    "\n",
    "**note：**\n",
    "\n",
    "1. 假设输入的表达式只会出现加（“+”），减 “-”， 乘“*”，除 “/” 四个运算符, 表达式中只会出现正整数\n",
    "2. python中` str.isdigit()`函数可以判断字符串str是否为数字，\n",
    "\n",
    "\n",
    "\n",
    "e.g. :\n",
    "---\n",
    "\n",
    "1. 输入：“$3+5 * 8 -6$”   输出：37\n",
    "\n",
    "2. 输入：“$34+13*9 + 44-12/3$”  输出：191"
   ]
  },
  {
   "cell_type": "markdown",
   "metadata": {},
   "source": [
    "idea：  \n",
    "算法思路：\n",
    "一次从左到右扫表达式，把数字压到数字栈，遇到运算符就和运算符栈顶端比优先级，如果栈顶高（或相等）就先弹出来算一算，把结果再压回数字栈，直到栈顶运算符优先级低于当前，再把当前运算符压入。扫完后把剩下的运算符依次弹出计算，数字栈最后剩下的那条就是答案。  \n",
    "时间复杂度：$O(n)$"
   ]
  },
  {
   "cell_type": "code",
   "metadata": {
    "ExecuteTime": {
     "end_time": "2025-05-13T08:42:43.084131Z",
     "start_time": "2025-05-13T08:42:43.058483Z"
    }
   },
   "source": [
    "def calculate(s):\n",
    "    nums = []\n",
    "    ops  = []\n",
    "    i = 0\n",
    "    while i < len(s):\n",
    "        if s[i].isdigit():\n",
    "            num = 0\n",
    "            while i < len(s) and s[i].isdigit():\n",
    "                num = num * 10 + int(s[i])\n",
    "                i += 1\n",
    "            nums.append(num)\n",
    "        else:\n",
    "            op = s[i]\n",
    "            if op == '*' or op == '/':\n",
    "                p = 2\n",
    "            else:\n",
    "                p = 1\n",
    "            while ops:\n",
    "                top = ops[-1]\n",
    "                if top == '*' or top == '/':\n",
    "                    tp = 2\n",
    "                else:\n",
    "                    tp = 1\n",
    "                if tp >= p:\n",
    "                    b = nums.pop()\n",
    "                    a = nums.pop()\n",
    "                    o = ops.pop()\n",
    "                    if o == '+':\n",
    "                        nums.append(a + b)\n",
    "                    elif o == '-':\n",
    "                        nums.append(a - b)\n",
    "                    elif o == '*':\n",
    "                        nums.append(a * b)\n",
    "                    else:\n",
    "                        nums.append(a // b)\n",
    "                else:\n",
    "                    break\n",
    "            ops.append(op)\n",
    "            i += 1\n",
    "    while ops:\n",
    "        b = nums.pop()\n",
    "        a = nums.pop()\n",
    "        o = ops.pop()\n",
    "        if o == '+':\n",
    "            nums.append(a + b)\n",
    "        elif o == '-':\n",
    "            nums.append(a - b)\n",
    "        elif o == '*':\n",
    "            nums.append(a * b)\n",
    "        else:\n",
    "            nums.append(a // b)\n",
    "\n",
    "    return nums[0]\n",
    "\n",
    "print(calculate(\"3+5*8-6\"))     \n",
    "print(calculate(\"34+13*9+44-12/3\")) \n",
    "\n",
    "# your algorithm time complexity is: O(n)"
   ],
   "outputs": [
    {
     "name": "stdout",
     "output_type": "stream",
     "text": [
      "37\n",
      "191\n"
     ]
    }
   ],
   "execution_count": 3
  },
  {
   "cell_type": "markdown",
   "metadata": {},
   "source": [
    "## 问题 4:  \n",
    "\n",
    "> 星球碰撞问题：现有n个星球，在同一条直线上运行，如数组A所示，元素的绝对值表示星球的质量，负数表示星球自右向左运动，正数表示星球自左向右运动，当两个星球相撞的时候，质量小的会消失，大的保持不变，**质量相同的两个星球碰撞后自右向左运动的星球消失，自左向右的星球保持不变**，假设所有星球的速度大小相同。\n",
    ">\n",
    "> $ A=[23,-8, 9, -3, -7, 9, -23, 22] $\n",
    "\n",
    "请设计一个算法模拟星球的运行情况，输出最终的星球存续情况（输出一个数组），分析算法设计思路，计算时间复杂度，并基于python编程实现。\n",
    "\n",
    "e.g.\n",
    "---\n",
    "1.  输入： A=[-3,-6,2,8, 5,-8,9,-2,1]， 输出：[-3, -6, 2, 8, 9, 1]\n",
    "\n",
    "2. 输入：A=[23,-8, 9, -3, -7, 9, -23, 22], 输出：[23, 22]"
   ]
  },
  {
   "cell_type": "markdown",
   "source": [
    "idea：  \n",
    "算法思路：用一个列表当栈，从左到右看每个星球,，正数（往右走）的星球直接入栈，负数（往左走）的星球与栈顶的正数一一比质量，并弹掉质量更小的正数，如果遇到质量相等或更大的正数，就让负数消失（都不进栈），如果栈空或栈顶也是负数，就把这个负数也压栈。\n",
    "时间复杂度：$O(n)$"
   ],
   "metadata": {
    "collapsed": false
   }
  },
  {
   "cell_type": "code",
   "source": [
    "def collide(a):\n",
    "    result = []\n",
    "    for i in a:\n",
    "        if i > 0:\n",
    "            result.append(i)\n",
    "        else:\n",
    "            while result and result[-1] > 0 and result[-1] < -i:\n",
    "                result.pop()\n",
    "            if result and result[-1] > 0:\n",
    "                continue\n",
    "            result.append(i)\n",
    "    return result\n",
    "\n",
    "print(collide([-3,-6,2,8,5,-8,9,-2,1]))\n",
    "print(collide([23,-8,9,-3,-7,9,-23,22]))\n",
    "# your algorithm time complexity is: O(n)\n"
   ],
   "metadata": {
    "collapsed": false,
    "pycharm": {
     "name": "#%%\n"
    },
    "ExecuteTime": {
     "end_time": "2025-05-13T08:42:46.533125Z",
     "start_time": "2025-05-13T08:42:46.510426Z"
    }
   },
   "outputs": [
    {
     "name": "stdout",
     "output_type": "stream",
     "text": [
      "[-3, -6, 2, 8, 9, 1]\n",
      "[23, 22]\n"
     ]
    }
   ],
   "execution_count": 4
  },
  {
   "cell_type": "markdown",
   "metadata": {},
   "source": [
    "## 问题 5 \n",
    "\n",
    "> 给定一个无序数组nums=[9,-3,-10,0,9,7,33]，请建立一个二叉搜索树存储数组中的所有元素，之后删除二叉树中的元素“0”，再使用中序遍历输出二叉搜索树中的所有元素。\n",
    "\n",
    "使用python编程完成上述任务，并计算时间复杂度\n"
   ]
  },
  {
   "cell_type": "code",
   "metadata": {
    "ExecuteTime": {
     "end_time": "2025-05-13T08:42:48.778867Z",
     "start_time": "2025-05-13T08:42:48.762905Z"
    }
   },
   "source": [
    "class NodeList:\n",
    "    def __init__(self, v):\n",
    "        self.v = v\n",
    "        self.left = None\n",
    "        self.right = None\n",
    "#建立二叉树\n",
    "nums = [9, -3, -10, 0, 9, 7, 33]\n",
    "root = None\n",
    "for i in nums:\n",
    "    if root is None:\n",
    "        root = NodeList(i)\n",
    "    else:\n",
    "        p = root\n",
    "        while True:\n",
    "            if i < p.v:\n",
    "                if p.left is None:\n",
    "                    p.left = NodeList(i)\n",
    "                    break\n",
    "                else:\n",
    "                    p = p.left\n",
    "            else:\n",
    "                if p.right is None:\n",
    "                    p.right = NodeList(i)\n",
    "                    break\n",
    "                else:\n",
    "                    p = p.right\n",
    "\n",
    "# 删除值为0的节点\n",
    "def delete(node, key):\n",
    "    if node is None:\n",
    "        return None\n",
    "    if key < node.v:\n",
    "        node.left = delete(node.left, key)\n",
    "    elif key > node.v:\n",
    "        node.right = delete(node.right, key)\n",
    "    else:\n",
    "        if node.left is None:\n",
    "            return node.right\n",
    "        if node.right is None:\n",
    "            return node.left\n",
    "        p = node.right\n",
    "        while p.left:\n",
    "            p = p.left\n",
    "        node.v = p.v\n",
    "        node.right = delete(node.right, p.v)\n",
    "    return node\n",
    "\n",
    "root = delete(root, 0)\n",
    "\n",
    "#中序遍历\n",
    "result = []\n",
    "def mid(n):\n",
    "    if n is None:\n",
    "        return\n",
    "    mid(n.left)\n",
    "    result.append(n.v)\n",
    "    mid(n.right)\n",
    "\n",
    "mid(root)\n",
    "print(result)\n",
    "# your algorithm time complexity is:O(nlog n)"
   ],
   "outputs": [
    {
     "name": "stdout",
     "output_type": "stream",
     "text": [
      "[-10, -3, 7, 9, 9, 33]\n"
     ]
    }
   ],
   "execution_count": 5
  },
  {
   "cell_type": "markdown",
   "metadata": {},
   "source": [
    "## 问题 6  \n",
    "\n",
    "> 给定一个包含大写字母和小写字母的字符串 s ，返回 字符串包含的 **最长的回文子串的长度** 。请注意 区分大小写 。比如 \"Aa\" 不能当做一个回文字符串。\n",
    ">\n",
    "\n",
    "请设计一个算法解决上述问题，只需要输出最长回文子串的长度，分析算法设计思路，计算时间复杂度，并基于python编程实现\n",
    "\n",
    "e.g. 输入： s=\"adccaccd\"，  输出：7。 最长回文子串为：\"dccaccd\", 长度为7\n"
   ]
  },
  {
   "cell_type": "markdown",
   "metadata": {},
   "source": [
    "idea：  \n",
    "算法思路：\n",
    "使用动态规划。用一个二维表ss，其中ss[i][j] 表示子串s[i..j] 是否是回文。先把所有长度为1的子串标记为回文,按子串长度从2到n依次填表,如果s[i]==s[j]并且（长度为2或者内部子串ss[i+1][j-1] 已经是回文），就把ss[i][j] = True，并记录下当前最大的长度和起始位置。填完后，就知道最长回文子串的起点和长度，然后切片输出。  \n",
    "时间复杂度：$O(n^2)$"
   ]
  },
  {
   "cell_type": "code",
   "metadata": {
    "ExecuteTime": {
     "end_time": "2025-05-13T08:42:51.834007Z",
     "start_time": "2025-05-13T08:42:51.805045Z"
    }
   },
   "source": [
    "def longest(s):\n",
    "    n = len(s)\n",
    "    if n == 0:\n",
    "        print('最长回文子串为：\"\", 长度为：0')\n",
    "        return 0\n",
    "    ss = [[False]*n for _ in range(n)]\n",
    "    max = 1\n",
    "    start = 0\n",
    "    for i in range(n):\n",
    "        ss[i][i] = True\n",
    "    for k in range(2, n+1):\n",
    "        for i in range(0, n-k+1):\n",
    "            j = i + k - 1\n",
    "            if s[i] == s[j]:\n",
    "                if k == 2 or ss[i+1][j-1]:\n",
    "                    ss[i][j] = True\n",
    "                    if k > max:\n",
    "                        max = k\n",
    "                        start = i\n",
    "\n",
    "    s1 = s[start:start+max]\n",
    "    print('最长回文子串为：\"{}\", 长度为：{}'.format(s1, max))\n",
    "    return max\n",
    "\n",
    "longest(\"adccaccd\")\n",
    "# your algorithm time complexity is:O(n^2)\n"
   ],
   "outputs": [
    {
     "name": "stdout",
     "output_type": "stream",
     "text": [
      "最长回文子串为：\"dccaccd\", 长度为：7\n"
     ]
    },
    {
     "data": {
      "text/plain": [
       "7"
      ]
     },
     "execution_count": 6,
     "metadata": {},
     "output_type": "execute_result"
    }
   ],
   "execution_count": 6
  },
  {
   "cell_type": "markdown",
   "metadata": {},
   "source": [
    "## 问题 7 \n",
    "\n",
    "> 沿一条长河流分散着n座房子。你可以把这条河想象成一条轴，房子是由它们在这条轴上的坐标按顺序排列的。你的公司想在河边的特定地点设置手机基站，这样每户人家都在距离基站4公里的范围内。输入可以看作为一个升序数组，数组元素的取值为大于等于0的正整数，你需要输出最小基站的数目，基站的位置。\n",
    "\n",
    "1. 给出一个时间复杂度为$O(n$) 的算法，使所使用的基站数量最小化，分析算法设计思路，使用python编程实现\n",
    "2. 证明1.中算法产生了最优解决方案。\n",
    "\n",
    "e.g. \n",
    "\n",
    "输入： [1, 5, 12, 33, 34,35]  输出：基站数目为3， 基站位置为[1，12，33]\n",
    "\n"
   ]
  },
  {
   "cell_type": "markdown",
   "metadata": {},
   "source": [
    "idea：  \n",
    "1.算法思路：用贪心算法，从最左侧还没被覆盖的房子开始，把它的位置当作一个基站，这个基站能够覆盖到它右侧4公里以内的所有房子，接着直接跳过所有坐标不超过该基站位置加4的房子，再把下一个未覆盖的房子当作新的基站，循环直到所有房子都被覆盖。因为每次都先让基站从最左未覆盖的房子出发，能够最有效地用最少的基站覆盖尽可能多的房子，指针i只向右移动不回退，整个算法只需一次线性扫描。"
   ]
  },
  {
   "cell_type": "code",
   "metadata": {
    "ExecuteTime": {
     "end_time": "2025-05-13T08:42:54.498824Z",
     "start_time": "2025-05-13T08:42:54.483231Z"
    }
   },
   "source": [
    "def stations(A):\n",
    "    n = len(A)\n",
    "    i = 0\n",
    "    s = []\n",
    "    while i < n:\n",
    "        left = A[i]\n",
    "        s.append(left)\n",
    "        while i < n and A[i] <= left + 4:\n",
    "            i += 1\n",
    "    return s\n",
    "\n",
    "\n",
    "A = [1, 5, 12, 33, 34, 35]\n",
    "s = stations(A)\n",
    "print(\"基站数目为\", len(s), \"基站位置为\", s)\n",
    "# your algorithm time complexity is:O(n)"
   ],
   "outputs": [
    {
     "name": "stdout",
     "output_type": "stream",
     "text": [
      "基站数目为 3 基站位置为 [1, 12, 33]\n"
     ]
    }
   ],
   "execution_count": 7
  },
  {
   "cell_type": "markdown",
   "source": [
    "2.任意最优方案的第一个基站也必须覆盖最左房子，因此它的位置一定在[𝐴[0],𝐴[0]+4]区间里；而我的算法把第一个基站放在A[0]处，覆盖范围与最优方案相同或更大，可直接替换而不减少覆盖。对剩下的房子重复同样的替换过程，每次都能保持覆盖能力和基站总数，最终将任意最优方案的所有基站一步步“右移”到算法选的位置上，基站数量始终不变。本算法使用的基站数与任何最优方案相同，必定是最少的。"
   ],
   "metadata": {
    "collapsed": false,
    "pycharm": {
     "name": "#%% md\n"
    }
   }
  },
  {
   "cell_type": "markdown",
   "metadata": {},
   "source": [
    "## 问题 8  \n",
    "\n",
    "> 给定由n个正整数组成的一个集合$S = \\{a_1, a_2，···，a_n\\}$和一个正整数W，设计一个算法确定是否存在S的一个子集 $K \\subseteq S$, 使K中所有数之和为 $W$, 如果存在返回“True”，否则返回“False”\n",
    "\n",
    "请设计一个时间复杂度为$O(nW)$动态规划算法，解决上述问题，分析算法的设计思路，并且基于python编程实现（不需要输出子集）。\n",
    "\n",
    "e.g. \n",
    "\n",
    "输入：S = {1,4,7,3,5}， W = 11，输出：True。   因为K可以是{4,7}。\n",
    "\n"
   ]
  },
  {
   "cell_type": "markdown",
   "metadata": {},
   "source": [
    "idea：先建一个长度为W+1的布尔动态规划数组dp，dp[0]=True（表示凑出和为0肯定可以），其余dp[w]初始为False。然后对集合S中的每个元素i，倒序遍历w从W到i，只要dp[w-i]为True，就把dp[w]设为True，表示可以用已有元素加上i凑出w。这样每个元素只会被用一次，遍历完所有元素后，dp[W]能说明能否凑出目标和W。"
   ]
  },
  {
   "cell_type": "code",
   "metadata": {
    "ExecuteTime": {
     "end_time": "2025-05-13T08:42:56.845206Z",
     "start_time": "2025-05-13T08:42:56.829585Z"
    }
   },
   "source": [
    "def sum(S, W):\n",
    "    dp = [False] * (W + 1)\n",
    "    dp[0] = True\n",
    "    for i in S:\n",
    "        for w in range(W, i-1, -1):\n",
    "            if dp[w - i]:\n",
    "                dp[w] = True\n",
    "    return dp[W]\n",
    "\n",
    "S = [1, 4, 7, 3, 5]\n",
    "W = 11\n",
    "result = sum(S, W)\n",
    "if result:\n",
    "    print(\"输出：True。因为K可以是{4,7}\")\n",
    "else:\n",
    "    print(\"输出：False。\")\n",
    "# your algorithm time complexity is: O(nW)"
   ],
   "outputs": [
    {
     "name": "stdout",
     "output_type": "stream",
     "text": [
      "输出：True。因为K可以是{4,7}\n"
     ]
    }
   ],
   "execution_count": 8
  },
  {
   "cell_type": "markdown",
   "metadata": {},
   "source": [
    "\n",
    "\n",
    "## 问题 9 \n",
    "\n",
    "> 给定一个n个物品的集合。物体的重量为$w_1, w_2，…、w_n$，物品的价值分别是$v_1、v_2、…v_n$。给你**两个**重量为 $c$ 的背包。如果你带了一个东西，它可以放在一个背包里，也可以放在另一个背包里，但不能同时放在两个背包里。所有权重和价值都是正整数。\n",
    "\n",
    "1. 设计一个时间复杂度为 $O(nc^2)$ 的动态规划算法，确定可以放入两个背包的物体的最大价值。分析算法设计思路，并基于python编程实现\n",
    "2. \\* 修改1中的算法，输出每个背包的内容（物品对应下标）。\n",
    "\n",
    "e.g.: \n",
    "\n",
    "输入 V=[1,3,2,5,8,7], W=[1,3,2,5,8,7], c=7, 输出：最大价值=14，背包装的物品为：[6] [4，3] （同一个背包中物品装入顺序对结果无影响）  \n"
   ]
  },
  {
   "cell_type": "markdown",
   "metadata": {},
   "source": [
    "idea：用dp[i][j][k]表示前i件物品在背包1剩余容量为j、背包2剩余容量为k时的最大价值，遍历每件物品，对每个(j,k)考虑不放、放包1、放包2三种情况取最大，最后dp[n][c][c]就是答案，同时在option数组里记录每步选择，遍历结束后从(n,c,c)回溯知道分别装了哪些物品。"
   ]
  },
  {
   "cell_type": "code",
   "metadata": {
    "ExecuteTime": {
     "end_time": "2025-05-13T08:42:59.075712Z",
     "start_time": "2025-05-13T08:42:59.052179Z"
    }
   },
   "source": [
    "def bags(V, W, c):\n",
    "    n = len(V)\n",
    "    dp = []\n",
    "    option = []\n",
    "    for i in range(n + 1):\n",
    "        dp.append([])\n",
    "        option.append([])\n",
    "        for j in range(c + 1):\n",
    "            dp[i].append([0] * (c + 1))\n",
    "            option[i].append([0] * (c + 1))\n",
    "    for i in range(1, n+1):\n",
    "        w_i, v_i = W[i-1], V[i-1]\n",
    "        for j in range(c+1):\n",
    "            for k in range(c+1):\n",
    "                dp[i][j][k] = dp[i-1][j][k]\n",
    "                option[i][j][k] = 0\n",
    "                #放到背包1\n",
    "                if j >= w_i and dp[i-1][j-w_i][k] + v_i > dp[i][j][k]:\n",
    "                    dp[i][j][k] = dp[i-1][j-w_i][k] + v_i\n",
    "                    option[i][j][k] = 1\n",
    "                #放到背包2\n",
    "                if k >= w_i and dp[i-1][j][k-w_i] + v_i > dp[i][j][k]:\n",
    "                    dp[i][j][k] = dp[i-1][j][k-w_i] + v_i\n",
    "                    option[i][j][k] = 2\n",
    "\n",
    "    # 回溯找物品编号\n",
    "    i, j, k = n, c, c\n",
    "    b1, b2 = [], []\n",
    "    while i > 0:\n",
    "        if option[i][j][k] == 1:\n",
    "            b1.append(i)\n",
    "            j -= W[i-1]\n",
    "        elif option[i][j][k] == 2:\n",
    "            b2.append(i)\n",
    "            k -= W[i-1]\n",
    "        i -= 1\n",
    "    b1.reverse()\n",
    "    b2.reverse()\n",
    "    return dp[n][c][c], b1, b2\n",
    "\n",
    "V = [1,3,2,5,8,7]\n",
    "W = [1,3,2,5,8,7]\n",
    "c = 7\n",
    "max, bag1, bag2 = bags(V, W, c)\n",
    "print(\"最大价值=\", max, \"背包装的物品为\", bag1, bag2)\n",
    "# your algorithm time complexity is: O(nc^2)"
   ],
   "outputs": [
    {
     "name": "stdout",
     "output_type": "stream",
     "text": [
      "最大价值= 14 背包装的物品为 [6] [3, 4]\n"
     ]
    }
   ],
   "execution_count": 9
  },
  {
   "cell_type": "markdown",
   "metadata": {},
   "source": [
    "## 问题 10 \n",
    "\n",
    "> 给定两个字符串 $x[1..n]$ 和 $y[1..m]$，我们想通过以下操作将 $x$ 变换为 $y$ :\n",
    ">\n",
    "> **插入**：在 $x$ 中插入一个字符(在任何位置)；**删除**：从 $x$ 中删除一个字符(在任何位置)； **替换**：用另一个字符替换 $x$ 中的一个字符。\n",
    ">\n",
    "> 例如: $x = abcd$, $y = bcfe$，\n",
    ">\n",
    "> - 将 $x$ 转换为 $y$ 的一种可能方法是：1. 删除 $x$ 开头的 $a$, $x$变成 $bcd$； 2. 将 $x$ 中的字符 $d$ 替换为字符 $f$。$x$ 变成 $bcf$； 3. 在 $x$ 的末尾插入字符 $e$。$x$ 变成 $bcfe$。\n",
    ">\n",
    "> - 另一种可能的方法：1. 删除 $x$ 开头的 $a$,  $x$ 变成 $bcd$； 2. 在 $x$ 中字符 $d$ 之前插入字符 $f$。$x$ 变成 $bcfd$。3. 将 $x$ 中的字符 $d$ 替换为字符 $e$。$x$ 变成 $bcfe$。\n",
    "\n",
    "设计一个时间复杂度为 $O(mn)$ 的算法，返回将 $x$ 转换为 $y$ 所需的最少操作次数。分析算法设计思路，并基于python编程实现。\n"
   ]
  },
  {
   "cell_type": "markdown",
   "metadata": {},
   "source": [
    "idea：构造一个大小为(Lx+1)×(Ly+1)的二维表dp，其中dp[i][j]表示把x[:i]变成y[:j]需要的最少操作次数，先把第一行dp[0][j]=j、第一列dp[i][0]=i作为边界，然后逐行逐列填表，如果x[i-1]==y[j-1] 则dp[i][j]=dp[i-1][j-1]，否则取删除、插入、替换三种方式的最小值再加一。最后读出dp[L_x][L_y]。"
   ]
  },
  {
   "cell_type": "code",
   "metadata": {
    "ExecuteTime": {
     "end_time": "2025-05-13T08:43:02.129828Z",
     "start_time": "2025-05-13T08:43:02.098582Z"
    }
   },
   "source": [
    "def edit(x, y):\n",
    "    Lx = len(x)\n",
    "    Ly = len(y)\n",
    "    dp = []\n",
    "    for i in range(Lx + 1):\n",
    "        dp.append([])\n",
    "        for j in range(Ly + 1):\n",
    "            dp[i].append(0)\n",
    "    for i in range(Lx+1):\n",
    "        dp[i][0] = i\n",
    "    for j in range(Ly+1):\n",
    "        dp[0][j] = j\n",
    "    for i in range(1, Lx+1):\n",
    "        for j in range(1, Ly+1):\n",
    "            if x[i-1] == y[j-1]:\n",
    "                dp[i][j] = dp[i-1][j-1]\n",
    "            else:\n",
    "                a = dp[i-1][j] + 1\n",
    "                b = dp[i][j-1] + 1\n",
    "                c = dp[i-1][j-1] + 1\n",
    "                dp[i][j] = min(a, b, c)\n",
    "    return dp[Lx][Ly]\n",
    "\n",
    "x = \"abcd\"\n",
    "y = \"bcfe\"\n",
    "num = edit(x, y)\n",
    "print(f\"将 {x} 转换为 {y} 所需的最少操作次数为{num}\")\n",
    "# your algorithm time complexity is: O(mn)"
   ],
   "outputs": [
    {
     "name": "stdout",
     "output_type": "stream",
     "text": [
      "将 abcd 转换为 bcfe 所需的最少操作次数为3\n"
     ]
    }
   ],
   "execution_count": 10
  }
 ],
 "metadata": {
  "language_info": {
   "name": "python"
  },
  "kernelspec": {
   "name": "python3",
   "language": "python",
   "display_name": "Python 3"
  },
  "pycharm": {
   "stem_cell": {
    "cell_type": "raw",
    "source": [],
    "metadata": {
     "collapsed": false
    }
   }
  }
 },
 "nbformat": 4,
 "nbformat_minor": 2
}
