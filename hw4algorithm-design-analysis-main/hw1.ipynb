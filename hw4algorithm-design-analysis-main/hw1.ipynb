{
 "cells": [
  {
   "cell_type": "markdown",
   "metadata": {},
   "source": [
    "## algorithm design and anlysis-2025 spring  homework 1 \n",
    "**Deadline**：2025.5.14\n",
    "\n",
    "**name**:\n",
    "\n",
    "\n",
    "note：\n",
    "---\n",
    "1. 带有\\*的题目，申请免上课的同学，必须完成，其他同学选作；\n",
    "2. 请独立完成，如求助了他人或者大模型，请著明，并且不可省略算法分析部分；\n",
    "4. 如若作答有雷同，全部取消成绩；\n",
    "3. 需要书面作答的题目，可以通过引用图片的形式添加，但是注意上传项目时包含所引用的图片的源文件；\n",
    "4. $log_n$ 默认表示$log_2{n}$;"
   ]
  },
  {
   "cell_type": "markdown",
   "metadata": {},
   "source": [
    "## 问题 1\n",
    "\n",
    "对于下面的每一对表达式(A, B), A是否能表示为B的 $\\Theta, \\Omega ,O$形式. 请注意, 这些关系中的零个、一个或多个可能成立。列出所有正确的。经常发生一些学生会,把指示写错, 所以请把关系写完整, 例如: $A = O(B),  A =\\Theta(B)$, 或$A = \\Omega(B)$。\n",
    "\n",
    "1. $A=n^2-100n, B=n^2$\n",
    "2. $A=logn, B=log_{1.2}n$\n",
    "3. $A=3^{2n}, B=2^{4n}$\n",
    "4. $A=2^{logn}, B=n$\n",
    "5. $A=\\log{\\log}{n},B=10^{10^{100}}$"
   ]
  },
  {
   "cell_type": "markdown",
   "metadata": {},
   "source": [
    "can refer a handwritten picture, pleas upload the picture in /fig/xxx.png\n",
    "answer:   \n",
    "![figure](./fig/hw1q1_a1.png)"
   ]
  },
  {
   "cell_type": "markdown",
   "metadata": {},
   "source": [
    "## 问题 2：\n",
    "\n",
    "假设有函数 $f$ 和 $g$ 使得 $f(n)$ = $O(g(n))$ 对于下面的每一个陈述, 请判断对错, 如果正确请给出证明, 否则请给出一个反例。\n",
    "\n",
    "1. $\\log{f(n)}$ = $O(\\log(1+g(n)))$\n",
    "2. $3^{f(n)}=O(3^{g(n)})$\n",
    "3. $(f(n))^2=O((g(n))^2)$ "
   ]
  },
  {
   "cell_type": "markdown",
   "metadata": {},
   "source": [
    "you can refer a handwritten picture, pleas upload the picture in /fig/xxx.png\n",
    "answer:  \n",
    "![figure](./fig/hw1q2_a2.png)"
   ]
  },
  {
   "cell_type": "markdown",
   "metadata": {},
   "source": [
    "## 问题 3\n",
    "\n",
    "根据下列递归公式, 计算下列 $T(n)$ 对应的的渐近上界。要求所求的边界尽可能的紧（tight）, 请写明步骤。\n",
    "\n",
    "1. $T(1)=1; T(n)=T(n/4)+1$ for $n>1$\n",
    "2. $T(1)=1;T(n)=3T(n/3)+n^2$ for $n>1$\n",
    "3. $T(1)=1;T(n)=T(2n/3)+1$ for $n>1$\n",
    "4. $T(1)=1;T(n)=5T(n/4)+n$ for $n>1$\n",
    "5. $T(n)=1 \\ for\\ n \\le 2 ; T(n)=T(\\sqrt{n})+1 \\ for \\ n>2$"
   ]
  },
  {
   "cell_type": "markdown",
   "metadata": {},
   "source": [
    "can refer a handwritten picture, pleas upload the picture in /fig/xxx.png\n",
    "answer:  \n",
    "![figure](./fig/hw1q3_a3.png)"
   ]
  },
  {
   "cell_type": "markdown",
   "metadata": {},
   "source": [
    "## 问题 4：\n",
    "\n",
    "给定一个包含n个元素的数组 `profits` , 它的第 `i` 个元素 `profits[i]` 表示一支股票第 `i` 天的**收益**（正数表示涨, 负数表示跌）。你只能选择 **某一天** 买入这只股票, 并选择在 **未来的某一个不同的日子** 卖出该股票。\n",
    "\n",
    "1. 设计一个算法来计算你所能获取的最大利润和对应买入和卖出的日期。请分析算法方案, 计算其时间复杂度, 并且使用python编程实现该算法。\n",
    "\n",
    "2. \\* 设计一个时间复杂度为 $O(n)$的算法实现该算法\n",
    "\n",
    "e.g. :\n",
    "---\n",
    "profits=[3,2,1,-7,5,2,-1,3,-1], 第5天买入, 第8天卖出, 收益最大：9\n",
    "\n"
   ]
  },
  {
   "cell_type": "markdown",
   "metadata": {},
   "source": [
    "idea:"
   ]
  },
  {
   "cell_type": "markdown",
   "metadata": {
    "pycharm": {
     "name": "#%% md\n"
    }
   },
   "source": [
    "1.算法方案：\n",
    "用两个嵌套循环遍历所有可能的买入和卖出组合。\n",
    "外层循环依次选定买入那一天，内层循环从买入日开始累加到每一个可能的卖出日，\n",
    "每次计算当前区间的总收益，并随时与已记录的最大收益进行比较。如果发现了更高的收益，就更新最大收益值和对应的买卖日期，最后得到最优的买入日和卖出日。  \n",
    "时间复杂度：$O(n^2)$"
   ]
  },
  {
   "cell_type": "code",
   "source": [
    "def max_profit(profits):\n",
    "    n = len(profits)\n",
    "    max_profit = profits[0]\n",
    "    buy = 0\n",
    "    sell = 0\n",
    "    for i in range(n):\n",
    "        current_profit = 0\n",
    "        for j in range(i, n):\n",
    "            current_profit += profits[j]\n",
    "            if current_profit > max_profit:\n",
    "                max_profit = current_profit\n",
    "                buy = i\n",
    "                sell = j\n",
    "    print(\"第{}天买入, 第{}天卖出, 收益最大：{}\".format(buy+1, sell+1, max_profit))\n",
    "\n",
    "\n",
    "profits = [3, 2, 1, -7, 5, 2, -1, 3, -1]\n",
    "max_profit(profits)"
   ],
   "metadata": {
    "collapsed": false,
    "pycharm": {
     "name": "#%%\n"
    },
    "ExecuteTime": {
     "end_time": "2025-05-13T08:41:58.390276Z",
     "start_time": "2025-05-13T08:41:58.357363Z"
    }
   },
   "outputs": [
    {
     "name": "stdout",
     "output_type": "stream",
     "text": [
      "第5天买入, 第8天卖出, 收益最大：9\n"
     ]
    }
   ],
   "execution_count": 1
  },
  {
   "cell_type": "markdown",
   "source": [
    "# an algorithm with O(n)"
   ],
   "metadata": {
    "collapsed": false,
    "pycharm": {
     "name": "#%% md\n"
    }
   }
  },
  {
   "cell_type": "markdown",
   "metadata": {},
   "source": [
    "## 问题 5：\n",
    "\n",
    "观察下方的分治算法（divide-and-conquer algorithm）的伪代码, 回答下面问题\n",
    "\n",
    "```latex\n",
    "DoSomething(A,p,r)\n",
    "-----\n",
    "n := r-p+1\n",
    "if n=2 and A[p]>A[r] then\n",
    "    swap A[p] and A[r]\n",
    "else if n >= 3 then\n",
    "    m = ceil(2n/3)\n",
    "    DoSomething(A,p,p+m-1)\n",
    "    DoSomething(A,r-m+1,r)\n",
    "    DoSomething(A,p,p+m-1)  \n",
    "    \n",
    "---\n",
    "first call: DoSomething(A,1,n)\n",
    "```\n",
    "\n",
    "note：$ceil(2n/3)=\\left\\lceil {2n/3} \\right\\rceil$；$:=$ 表示赋值, 等价于 $\\to$；A是一个包含n的整数元素的数组, \n",
    "\n",
    "1. 写出该算法时间复杂度的递归公式, 并求解其对应的渐进表示\n",
    "2. 描述一下该算法的功能, 并判断是否是最高效的解决方案\n",
    "3. 使用python编程实现上述算法或其对应的更高效版本的算法\n"
   ]
  },
  {
   "cell_type": "markdown",
   "metadata": {},
   "source": [
    "idea：   \n",
    "1.\n",
    "递归公式:  \n",
    "\t​T(1)=O(1),  \n",
    "\tT(2)=O(1),  \n",
    "\tT(n)=3T(⌈2n/3⌉)+1,n≥3.  \n",
    "渐进表示：  \n",
    "根据主定理得，a=3，b=3/2，c=0，符合case1，$T(n)=\\Theta\\bigl(n^{\\log_{\\frac{3}{2}}3}\\bigr)$\n",
    "  \n",
    "2.算法功能：\n",
    "这个分治算法是在不停地交换、递归子区间来把整个数组排好序。它每次都取当前区间的前2/3和后2/3做三次“自己”和“自己”排序，最后保证整个区间有序。  \n",
    "虽然它也是分治思想，但它要做3次递归，规模又是2n/3，时间复杂度大约是$O(n^{2.71})$。常见的排序都是$O(n\\log n)$（比如快速排序、归并排序），比它快很多，所以不是最有效的方案。\n"
   ]
  },
  {
   "cell_type": "markdown",
   "metadata": {},
   "source": [
    "answer:"
   ]
  },
  {
   "cell_type": "markdown",
   "source": [
    "3."
   ],
   "metadata": {
    "collapsed": false
   }
  },
  {
   "cell_type": "code",
   "metadata": {
    "pycharm": {
     "name": "#%% \n"
    },
    "ExecuteTime": {
     "end_time": "2025-05-13T08:42:07.685069Z",
     "start_time": "2025-05-13T08:42:07.664960Z"
    }
   },
   "source": [
    "def merge_sort(arr):\n",
    "    def sort(left, right):\n",
    "        if left >= right:\n",
    "            return\n",
    "        mid = (left + right) // 2\n",
    "        sort(left, mid)\n",
    "        sort(mid + 1, right)\n",
    "        temp = []\n",
    "        i, j = left, mid + 1\n",
    "        while i <= mid and j <= right:\n",
    "            if arr[i] <= arr[j]:\n",
    "                temp.append(arr[i])\n",
    "                i += 1\n",
    "            else:\n",
    "                temp.append(arr[j])\n",
    "                j += 1\n",
    "        while i <= mid:\n",
    "            temp.append(arr[i])\n",
    "            i += 1\n",
    "        while j <= right:\n",
    "            temp.append(arr[j])\n",
    "            j += 1\n",
    "        for k in range(len(temp)):\n",
    "            arr[left + k] = temp[k]\n",
    "\n",
    "    sort(0, len(arr) - 1)\n",
    "\n",
    "data = [5, 2, 9, 1, 5, 6]\n",
    "print(\"原始：\", data)\n",
    "merge_sort(data)\n",
    "print(\"排序后：\", data)"
   ],
   "outputs": [
    {
     "name": "stdout",
     "output_type": "stream",
     "text": [
      "原始： [5, 2, 9, 1, 5, 6]\n",
      "排序后： [1, 2, 5, 5, 6, 9]\n"
     ]
    }
   ],
   "execution_count": 2
  },
  {
   "cell_type": "markdown",
   "metadata": {},
   "source": [
    "## 问题 6：\n",
    "\n",
    "给定一个大小为 `n` 的数组 `nums` , 返回其中的多数元素。多数元素是指在数组中出现次数 **大于** `⌊ n/2 ⌋` 的元素。\n",
    "\n",
    "你可以假设数组是非空的, 并且给定的数组总是存在多数元素。\n",
    "\n",
    "1. 设计一个算法找到给定数组的多数元素, 分析算法设计思路, 计算算法时间复杂度, 使用python编程实现\n",
    "2. \\* 设计时间复杂度为 O(n)、空间复杂度为 O(1) 的算法解决此问题, 分析算法设计思路, 使用python编程实现\n",
    "\n",
    "e.g.:\n",
    "---\n",
    "1. nums=[3,2,3], 返回3\n",
    "2. nums=[2,2,1,1,1,2,2], 返回2\n"
   ]
  },
  {
   "cell_type": "markdown",
   "metadata": {},
   "source": [
    "idea：  \n",
    "1.算法思路：第一次遍历数组，用一个字典记录每个元素出现的次数。再遍历这个字典，找到出现次数大于⌊n/2⌋的那个元素。  \n",
    "时间复杂度：$O(n)$"
   ]
  },
  {
   "cell_type": "code",
   "metadata": {
    "ExecuteTime": {
     "end_time": "2025-05-13T08:42:10.726658Z",
     "start_time": "2025-05-13T08:42:10.717681Z"
    }
   },
   "source": [
    "def maxnum_element(nums):\n",
    "    counts = {}\n",
    "    for x in nums:\n",
    "        if x in counts:\n",
    "            counts[x] += 1\n",
    "            \n",
    "        else:\n",
    "            counts[x] = 1\n",
    "    half = len(nums) // 2\n",
    "    for num, cnt in counts.items():\n",
    "        if cnt > half:\n",
    "            return num\n",
    "\n",
    "data = [2, 2, 1, 1, 1, 2, 2]\n",
    "print(\"多数元素是：\", maxnum_element(data))\n",
    "# your algorithm time complexity is :O(n)"
   ],
   "outputs": [
    {
     "name": "stdout",
     "output_type": "stream",
     "text": [
      "多数元素是： 2\n"
     ]
    }
   ],
   "execution_count": 3
  },
  {
   "cell_type": "markdown",
   "metadata": {},
   "source": [
    "idea for 2\\*："
   ]
  },
  {
   "cell_type": "code",
   "execution_count": null,
   "metadata": {},
   "outputs": [],
   "source": [
    "# algorithm time complexity：O(n), space complexity:O(1)\n",
    "# add your code here"
   ]
  },
  {
   "cell_type": "markdown",
   "metadata": {},
   "source": [
    "## 问题 7：\n",
    "\n",
    "给定一个包含不同整数元素的数组 $ A[1..n]$ ,并且满足条件：$A[1]>A[2]$ 并且 $A[n-1]<A[n]$; 规定：如果一个元素比它两边的邻居元素都小, 即：$A[x]<A[x-1], A[x]<A[x+1]$ , 称这个元素A[x]为“局部最小”。通过遍历一次数组, 我们可以很容易在 $O(n)$的时间复杂度下找到一个局部最小值, \n",
    "\n",
    "\n",
    "1. 分析该问题, 设计一个算法在$O(logn)$的时间复杂度下找到一个局部最小(返回数值), 要求：分析算法设计思路, 并且使用python编程实现\n",
    "2. \\* 设计算法找出所有局部最小值, 分析算法设计思路, 并使用python编程实现\n",
    "\n",
    "e.g.:\n",
    "---\n",
    "A=[9, 3, 7, 2, 1, 4, 5 ] 时,  局部最小元素为 3, 1\n"
   ]
  },
  {
   "cell_type": "markdown",
   "metadata": {},
   "source": [
    "idea：  \n",
    "1.算法思路：使用二分查找：选中间位置mid，比较num[mid]与左右邻居,如果num[mid]<num[mid-1]且num[mid]<num[mid+1]，那它就是局部最小，直接返回；如果num[mid]>num[mid-1]，那左半区间一定存在局部最小，把搜索区间缩到左半边；如果（num[mid]>num[mid+1]），右半区间一定存在局部最小，缩到右半边。重复步骤，直到返回局部最小值。"
   ]
  },
  {
   "cell_type": "code",
   "metadata": {
    "ExecuteTime": {
     "end_time": "2025-05-13T08:42:13.375747Z",
     "start_time": "2025-05-13T08:42:13.355801Z"
    }
   },
   "source": [
    "def find_min(num):\n",
    "    low, hight = 0, len(num) - 1\n",
    "    while low <= hight:\n",
    "        mid = (low + hight) // 2\n",
    "        #只要mid不是最边上的位置，就有左右邻居\n",
    "        if num[mid] < num[mid-1] and num[mid] < num[mid+1]:\n",
    "            return num[mid]\n",
    "        if num[mid] > num[mid-1]:\n",
    "            hight = mid - 1\n",
    "        else:\n",
    "            low = mid + 1\n",
    "\n",
    "nums = [9, 3, 7, 2, 1, 4, 5]\n",
    "print(\"局部最小元素是：\", find_min(nums))\n",
    "# your algorithm time complexity is :O(logn)"
   ],
   "outputs": [
    {
     "name": "stdout",
     "output_type": "stream",
     "text": [
      "局部最小元素是： 1\n"
     ]
    }
   ],
   "execution_count": 4
  },
  {
   "cell_type": "markdown",
   "metadata": {},
   "source": [
    "idea:"
   ]
  },
  {
   "cell_type": "code",
   "execution_count": null,
   "metadata": {},
   "outputs": [],
   "source": [
    "# add your code here\n",
    "# your algorithm time complexity is :"
   ]
  },
  {
   "cell_type": "markdown",
   "metadata": {},
   "source": [
    "## 问题 8：\n",
    "\n",
    "给定包含n个不同数字的一组数, 寻找一种基于比较的算法在这组数中找到k个最小的数字, 并按顺序输出它们。\n",
    "\n",
    "1. 将n个数先进行排序, 然后按顺序输出最小的k个数。要求：选择合适的排序算法实现上述操作, 计算算法时间复杂度, 并使用python编程实现。\n",
    "2. 建立一个包含这n个数的堆（heap）, 并且调用 k 次Extract-min 按顺序输出最小的k个数。使用往空堆中不断插入元素的方法建立堆, 分析这种方法建堆的时间复杂度, 并使用python编程实现\n",
    "3. \\* 假设数组中包含的数据总数目超过了计算机的存储能力, 请设计一个算法, 找到这堆数据的前k小的数值, 计算时间复杂度, 并使用python实现该算法, 假设计算机一定能存储k个数据。\n",
    "\n",
    "e.g.：\n",
    "---\n",
    "数组arr=[5,4,3,2,6,1,88,33,22,107] 的前3个最小数据为：1, 2, 3\n"
   ]
  },
  {
   "cell_type": "markdown",
   "metadata": {},
   "source": [
    "idea：  \n",
    "1.算法思路：用归并排序，每次把数组分成两半，递归地排好两半，然后再合并。排序后，直接取出前面最小的k个元素。  \n",
    "时间复杂度：$O(n\\log n)$"
   ]
  },
  {
   "cell_type": "code",
   "metadata": {
    "ExecuteTime": {
     "end_time": "2025-05-13T08:42:18.245668Z",
     "start_time": "2025-05-13T08:42:18.230052Z"
    }
   },
   "source": [
    "def merge(num, left, mid, right):\n",
    "    temp = []\n",
    "    i, j = left, mid + 1\n",
    "    while i <= mid and j <= right:\n",
    "        if num[i] <= num[j]:\n",
    "            temp.append(num[i])\n",
    "            i += 1\n",
    "        else:\n",
    "            temp.append(num[j])\n",
    "            j += 1\n",
    "    while i <= mid:\n",
    "        temp.append(num[i])\n",
    "        i += 1\n",
    "    while j <= right:\n",
    "        temp.append(num[j])\n",
    "        j += 1\n",
    "    for k in range(len(temp)):\n",
    "        num[left + k] = temp[k]\n",
    "\n",
    "def merge_sort(num, left, right):\n",
    "    #如果区间至少有两个元素，就分成两半分别排好序，然后合并\n",
    "    if left < right:\n",
    "        mid = (left + right) // 2\n",
    "        merge_sort(num, left, mid)\n",
    "        merge_sort(num, mid+1, right)\n",
    "        merge(num, left, mid, right)\n",
    "\n",
    "def mergesort(num, k):\n",
    "    #对整个数组做归并排序\n",
    "    merge_sort(num, 0, len(num)-1)\n",
    "    return num[:k]\n",
    "\n",
    "num = [5,4,3,2,6,1,88,33,22,107]\n",
    "k = 3\n",
    "print(\"前{}个最小数据为：\".format(k), mergesort(num.copy(), k))\n",
    "# your algorithm time complexity is :O(nlog n)"
   ],
   "outputs": [
    {
     "name": "stdout",
     "output_type": "stream",
     "text": [
      "前3个最小数据为： [1, 2, 3]\n"
     ]
    }
   ],
   "execution_count": 5
  },
  {
   "cell_type": "markdown",
   "source": [
    "idea：  \n",
    "2.准备一个空的最小堆，把数组里每个元素x都heappush进堆，完成后堆里有n个元素，连续调用k次heappop，每次取出的都是当前堆里最小的元素，按序排列。  \n",
    "时间复杂度：$O(n\\log n)$"
   ],
   "metadata": {
    "collapsed": false
   }
  },
  {
   "cell_type": "code",
   "source": [
    "import heapq\n",
    "def heap(num, k):\n",
    "    heap = []\n",
    "    #建堆\n",
    "    for x in num:\n",
    "        heapq.heappush(heap, x)\n",
    "    #提取k次最小\n",
    "    result = []\n",
    "    for _ in range(k):\n",
    "        result.append(heapq.heappop(heap))\n",
    "    return result\n",
    "\n",
    "arr = [5,4,3,2,6,1,88,33,22,107]\n",
    "print(\"前3个最小数据为:\", heap(arr, 3))"
   ],
   "metadata": {
    "collapsed": false,
    "pycharm": {
     "name": "#%%\n"
    },
    "ExecuteTime": {
     "end_time": "2025-05-13T08:42:21.467212Z",
     "start_time": "2025-05-13T08:42:21.441568Z"
    }
   },
   "outputs": [
    {
     "name": "stdout",
     "output_type": "stream",
     "text": [
      "前3个最小数据为: [1, 2, 3]\n"
     ]
    }
   ],
   "execution_count": 6
  },
  {
   "cell_type": "markdown",
   "metadata": {},
   "source": [
    "## 问题 9：\n",
    "\n",
    "**选择问题**:给定一个包含n个未排序值的数组A和一个$k≤n$的整数, 返回A中最小的第k项。\n",
    "\n",
    "在课堂上, 学了一个简单的O(n)随机算法来解决选择问题。事实上还有一种更复杂的最坏情况下时间复杂度为$O(n)$ 的选择算法。假设使用一个黑盒过程来实现这个O(n)选择算法: 给定一个数组A、 $p < r$ 和 k,  $BB(A, p, r, k)$ 可以在$O(r−p+ 1)$时间内找到并报告$A[p..r]$中第k小的项的下标。假设你可以在线性时间内处理Partition过程。\n",
    "\n",
    "1. 请分析如何修改 Quicksork 算法可以使其最差情况下的运行时间为 $O(nlogn)$, 使用伪代码实现, 并分析为何修改后的版本最差情况的运行时间为$O(nlogn)$\n",
    "\n",
    "note: 伪代码中, 你可以直接调用用` BB(A,p,r,k)`这个函数用于表示在最坏情况下时间复杂度为$O(n)$的选择算法；\n",
    "\n",
    "\n",
    "\n",
    "2. 找到一个更好的算法报告数组A中的前k小的项, 使用伪代码表示你的算法, 并分析你算法的时间复杂度。\n",
    "\n",
    "举例：A=[13, 3, 7, 9, 11, 1, 15, 2, 8, 10, 12, 16, 14, 5], 当k=4时, 应该报告1, 2, 3, 4\n",
    "\n",
    "note： 最直观的方法就是先将数组A排序, 然后从左向右报告其前k项, 这样操作的时间复杂度为$O(nlogn)$. 调用用` BB(A,p,r,k)`设计一个算法使其报告无序数组A的前k项, 满足时间复杂度好于$\\Theta(nlogn)$, 并且当$k=\\sqrt{n}$时, 你设计的算法时间复杂度应该为$\\Theta(n)$.\n",
    "\n",
    "\n",
    "\n",
    "3. 给定一个大小为n的数组, 找到一个 时间复杂度为$O(n log k)$ 的算法, 该算法将A中的元素重新排序, 使它们被划分为k个部分, 每个部分的元素小于或等于下一部分的元素。假设n和k都是2的幂。使用伪代码表示你的算法, 并分析时间复杂度。\n",
    "\n",
    "e.g.:\n",
    "---\n",
    "数组：[1,  3,  5,  7,  9,  11,  13,  15,  2,  4,  6,  8,  10,  12,  16,  14], k=4, \n",
    "\n",
    "对应重新排序的数组为：[1,  3,  2,  4]  [7,  6,  5,  8]  [12,  11,  10,  9]  [13,  14,  16,  15]\n",
    "\n",
    "\n"
   ]
  },
  {
   "cell_type": "markdown",
   "metadata": {},
   "source": [
    "idea：\n",
    "1."
   ]
  },
  {
   "cell_type": "code",
   "execution_count": null,
   "metadata": {},
   "outputs": [],
   "source": [
    "QuickSort(A, p, r):\n",
    "    if p < r:\n",
    "        #找出区间中第⌊(r-p+1)/2⌋小的位置mid\n",
    "        range = ⌊(r - p + 1) / 2⌋\n",
    "        mid  = BB(A, p, r, range)\n",
    "        swap(A[mid], A[r])\n",
    "        q = Partition(A, p, r)\n",
    "        QuickSort(A, p, q-1)\n",
    "        QuickSort(A, q+1, r)"
   ]
  },
  {
   "cell_type": "markdown",
   "source": [
    "利用线性时间的黑盒选择算法BB，在$\\Theta(n)$ 时间内找出当前区间的中位数，并把它作为中轴用于划分。Partition后左右两段的大小都在⌊n/2⌋和⌈n/2⌉ 之间，保证每次递归都把问题规模减半。则递推式为：$T(n) = 2\\,T\\bigl(\\tfrac{n}{2}\\bigr) + n$，a=2 b=2 c=1，符合case2，则$T(n) = O(n \\log n)$"
   ],
   "metadata": {
    "collapsed": false
   }
  },
  {
   "cell_type": "markdown",
   "source": [
    "2.算法思路：先用线性时间选择算法$\\mathrm{BB}(A,1,n,k)$找到第$k$小元素的下标$i$，再调用Partition(A,1,n) 一次，把数组切成$A[1..i]$ 和 $A[i+1..n]$，此时前$k$小的在$A[1..i]$里，再对$A[1..i]$ 做QuickSort排序输出这$k$个元素。  \n",
    "时间复杂度：当$k$很小（如常数）时，$T(n) = \\Theta\\bigl(n + O(1)\\bigr) = \\Theta(n)$,当$k =\\sqrt{n}$时，$k\\log k = \\sqrt{n}{\\frac{1}{2}}log n = o(n) \\;\\Longrightarrow\\; T\\bigl(n) = \\Theta\\bigl(n + o(n)\\bigr) = \\Theta(n)$"
   ],
   "metadata": {
    "collapsed": false
   }
  },
  {
   "cell_type": "code",
   "execution_count": null,
   "outputs": [],
   "source": [
    "ReportK(A, n, k):\n",
    "    i = BB(A, 1, n, k)            \n",
    "    Partition(A, 1, n)         \n",
    "    QuickSort(A, 1, i)\n",
    "    return A[1..k]"
   ],
   "metadata": {
    "collapsed": false,
    "pycharm": {
     "name": "#%%\n"
    }
   }
  },
  {
   "cell_type": "markdown",
   "source": [
    "3.算法思路：把要划分的$k$段看作二叉树顶点，总共$k$叶子，先找根结点，也就是第$(n/k)\\times(k/2)$小元素，用$\\mathrm{BB}$选出并Partition，这样就把数组分成了大小都$\\approx n/2$的左右两块，分别递归划分为$k/2$段。递推到$k=1$时，就不拆分了。  \n",
    "时间复杂度：递推式为$T(n,k) = 2\\,T\\bigl(\\tfrac{n}{2}, \\tfrac{k}{2}\\bigr) + O(n)$，解得$T(n,k) = O(n\\log k)$"
   ],
   "metadata": {
    "collapsed": false
   }
  },
  {
   "cell_type": "code",
   "execution_count": null,
   "outputs": [],
   "source": [
    "MultiPartition(A, p, r, k):\n",
    "    if k == 1:\n",
    "        return \n",
    "    t = (r - p + 1) / k * (k/2)\n",
    "    m = BB(A, p, r, t)      \n",
    "    Partition(A, p, r)      \n",
    "    mid = m\n",
    "    MultiPartition(A, p,   mid,   k/2)\n",
    "    MultiPartition(A, mid+1, r,   k/2)"
   ],
   "metadata": {
    "collapsed": false,
    "pycharm": {
     "name": "#%%\n"
    }
   }
  },
  {
   "cell_type": "markdown",
   "metadata": {},
   "source": [
    "## 问题 10：\n",
    "\n",
    "给定一个包含m个**字符串**的数组A, 其中不同的字符串可能有不同的字符数, 但数组中所有字符串的字符总数为n。设计一个算法在 $O(n)$ 时间内对字符串进行排序, 分析算法设计方案, 计算其时间复杂度, 并基于python编程实现该算法。请注意, 假设字符串只包含\"a\",\"b\",...,\"z\", \n",
    "\n",
    "\n",
    "\n",
    "举例1：数组A=[\"a\", \"da\", \"bde\", \"ab\", \"bc\", \"abdc\", \"cdba\"], 排序后的数组应该为：['a', 'ab', 'abdc', 'bc', 'bde', 'cdba', 'da']\n",
    "\n",
    "\n",
    "\n",
    "举例2：数组A=['ab', 'a', 'b', 'abc', 'ba', 'c'], 排序后的数组应该为：\n",
    "\n",
    "['a', 'ab', 'abc', 'b', 'ba', 'c']\n",
    "\n",
    "\n",
    "\n",
    "举例3：数组A=['aef', 'yzr', 'wr', 'ab', 'bhjc', 'lkabdc', 'pwcdba'],  排序后的数组应该为：['ab', 'aef', 'bhjc', 'lkabdc', 'pwcdba', 'wr', 'yzr']\n",
    "\n",
    "\n",
    "\n",
    "note：\n",
    "\n",
    "-  两个字符之间的比较可以考虑比较他们对应的ASCII码值；\n",
    "- python中可以使用`ord(\"a\")`返回字符 “a”对应的ASCII值"
   ]
  },
  {
   "cell_type": "markdown",
   "metadata": {},
   "source": [
    "idea:  \n",
    "算法思路：先找出最长字符串的长度Len，从最后一位到第一位，对所有字符串做一次“按当前位字符重排且保持原有相对顺序”，扫描一遍所有字符串，读取它们在当前位置的字符，根据字符的ASCII码，将它们放到一个新的列表里，且相同字符的字符串在新列表中仍按原来的先后次序排列，再用这个新列表替换旧的数组。重复上述步骤Len次后，字符串就完成了从首字符到尾字符的“多关键字”排序，最终得到完全的字典序排列。  \n",
    "时间复杂度：$\\Theta(n)$"
   ]
  },
  {
   "cell_type": "code",
   "metadata": {
    "ExecuteTime": {
     "end_time": "2025-05-13T08:42:28.982304Z",
     "start_time": "2025-05-13T08:42:28.958432Z"
    }
   },
   "source": [
    "def string_sort(A):\n",
    "    Len = 0\n",
    "    for s in A:\n",
    "        if len(s) > Len:\n",
    "            Len = len(s)\n",
    "    for i in range(Len-1, -1, -1):\n",
    "        list = [[] for _ in range(27)]\n",
    "        for s in A:\n",
    "            if i < len(s):\n",
    "                k = ord(s[i]) - ord('a') + 1\n",
    "            else:\n",
    "                k = 0\n",
    "            list[k].append(s)\n",
    "        new_list = []\n",
    "        for b in list:\n",
    "            for t in b:\n",
    "                new_list.append(t)\n",
    "        A = new_list\n",
    "\n",
    "    return A\n",
    "\n",
    "A1 = [\"a\", \"da\", \"bde\", \"ab\", \"bc\", \"abdc\", \"cdba\"]\n",
    "print(string_sort(A1))\n",
    "\n",
    "A2 = ['ab', 'a', 'b', 'abc', 'ba', 'c']\n",
    "print(string_sort(A2))\n",
    "\n",
    "A3 = ['aef', 'yzr', 'wr', 'ab', 'bhjc', 'lkabdc', 'pwcdba']\n",
    "print(string_sort(A3))\n",
    "# your algorithm time complexity is :Θ(n)\n"
   ],
   "outputs": [
    {
     "name": "stdout",
     "output_type": "stream",
     "text": [
      "['a', 'ab', 'abdc', 'bc', 'bde', 'cdba', 'da']\n",
      "['a', 'ab', 'abc', 'b', 'ba', 'c']\n",
      "['ab', 'aef', 'bhjc', 'lkabdc', 'pwcdba', 'wr', 'yzr']\n"
     ]
    }
   ],
   "execution_count": 7
  }
 ],
 "metadata": {
  "language_info": {
   "name": "python"
  },
  "kernelspec": {
   "name": "python3",
   "language": "python",
   "display_name": "Python 3 (ipykernel)"
  },
  "pycharm": {
   "stem_cell": {
    "cell_type": "raw",
    "source": [],
    "metadata": {
     "collapsed": false
    }
   }
  }
 },
 "nbformat": 4,
 "nbformat_minor": 2
}
