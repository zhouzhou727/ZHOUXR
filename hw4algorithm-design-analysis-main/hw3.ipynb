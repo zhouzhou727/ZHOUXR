{
 "cells": [
  {
   "cell_type": "markdown",
   "metadata": {},
   "source": [
    "## algorithm design and anlysis-2025 spring  homework 3\n",
    "**Deadline**：2025.5.14\n",
    "\n",
    "**name**:\n",
    "\n",
    "\n",
    "note：\n",
    "---\n",
    "1. 带有\\*的题目，申请免上课的同学，必须完成，其他同学选作；\n",
    "2. 请独立完成，如求助了他人或者大模型，请著明，并且不可省略算法分析部分；\n",
    "4. 如若作答有雷同，全部取消成绩；\n",
    "3. 需要书面作答的题目，可以通过引用图片的形式添加，但是注意上传项目时包含所引用的图片的源文件；\n",
    "4. $log_n$ 默认表示$log_2{n}$;"
   ]
  },
  {
   "cell_type": "markdown",
   "metadata": {},
   "source": [
    "## 问题 1  \n",
    "\n",
    "请证明基于比较的排序算法计算复杂度下界为$\\Omega(nlogn)$"
   ]
  },
  {
   "cell_type": "markdown",
   "metadata": {},
   "source": [
    "you can refer a handwritten picture, pleas upload the picture in /fig/xxx.png\n",
    "answer：  \n",
    "![figure](./fig/hw3q1_a1.png)"
   ]
  },
  {
   "cell_type": "markdown",
   "metadata": {},
   "source": [
    "## 问题 2 \n",
    "\n",
    "构建二叉搜索树\n",
    "\n",
    "> 1. 给定一个数组 [48, 33, 49, 47, 42, 46, 32], 构建一个二叉搜索树存储这些数据，请**绘制**所构建的**二叉搜索树**（标明结点的值）。\n",
    "> 2. 从第1问的二叉搜索树中删除33，请**绘制**删除33后的**二叉搜索树**（标明结点的值）\n",
    "\n",
    "- 推荐使用graphviz包绘制树的结构"
   ]
  },
  {
   "cell_type": "markdown",
   "metadata": {},
   "source": [
    "you can refer a handwritten picture, pleas upload the picture in /fig/xxx.png\n",
    "answer：  \n",
    "![figure](./fig/hw3q2_a2.png)"
   ]
  },
  {
   "cell_type": "markdown",
   "metadata": {},
   "source": [
    "## 问题 3 \n",
    "\n",
    "> 下面是九门课程的开始和结束时间:\n",
    ">\n",
    "> [(9:00,12:30), (11:00,14:00), (13:00, 14:30), (9:00,10:30),(13:00, 14:30),(14:00,16:30), (15:00,16:30), (15:00,16:30), (9:00,10:30)]\n",
    ">\n",
    "> 请使用贪婪算法为这九门课分配教室，要求在同一天内安排这些课，并且每个教室同一时间只能安排一门课。\n",
    "\n",
    "**请问最少需要几间教室，罗列出每个教室安排的课程**"
   ]
  },
  {
   "cell_type": "markdown",
   "metadata": {},
   "source": [
    "idea："
   ]
  },
  {
   "cell_type": "code",
   "metadata": {
    "vscode": {
     "languageId": "plaintext"
    },
    "ExecuteTime": {
     "end_time": "2025-05-13T08:43:12.534995Z",
     "start_time": "2025-05-13T08:43:12.508473Z"
    }
   },
   "source": [
    "# 把时间转换为分钟数\n",
    "def minutes(s):\n",
    "    time = s.split(':')\n",
    "    return int(time[0]) * 60 + int(time[1])\n",
    "\n",
    "times = [(\"9:00\",\"12:30\"),  (\"11:00\",\"14:00\"), (\"13:00\",\"14:30\"), (\"9:00\",\"10:30\"),  (\"13:00\",\"14:30\"), (\"14:00\",\"16:30\"), (\"15:00\",\"16:30\"), (\"15:00\",\"16:30\"), (\"9:00\",\"10:30\")]\n",
    "\n",
    "n = []\n",
    "for i in range(len(times)):\n",
    "    start = minutes(times[i][0])\n",
    "    end = minutes(times[i][1])\n",
    "    n.append((start, end, i+1))\n",
    "n.sort()\n",
    "\n",
    "#分配教室\n",
    "rooms = []\n",
    "for start, end, i in n:\n",
    "    k = False\n",
    "    for r in rooms:\n",
    "        if r[0] <= start:\n",
    "            r[1].append(i)\n",
    "            r[0] = end\n",
    "            k = True\n",
    "            break\n",
    "    if not k:\n",
    "        rooms.append([end, [i]])\n",
    "\n",
    "print(\"最少需要教室数:\", len(rooms))\n",
    "for i in range(len(rooms)):\n",
    "    m = rooms[i][1]\n",
    "    list = []\n",
    "    for j in m:\n",
    "        t = times[j-1]\n",
    "        list.append(f\"{j}({t[0]}-{t[1]})\")\n",
    "    print(f\"教室 {i+1} 编号：\", \" \".join(list))\n"
   ],
   "outputs": [
    {
     "name": "stdout",
     "output_type": "stream",
     "text": [
      "最少需要教室数: 3\n",
      "教室 1 编号： 4(9:00-10:30) 2(11:00-14:00) 6(14:00-16:30)\n",
      "教室 2 编号： 9(9:00-10:30) 3(13:00-14:30) 7(15:00-16:30)\n",
      "教室 3 编号： 1(9:00-12:30) 5(13:00-14:30) 8(15:00-16:30)\n"
     ]
    }
   ],
   "execution_count": 1
  },
  {
   "cell_type": "markdown",
   "metadata": {},
   "source": [
    "## 问题 4 \n",
    "\n",
    "> 爬楼梯问题：假设爬楼梯时你每次只能爬一阶或者爬两阶，问爬上n阶的楼梯，你一共有多少种方法\n",
    "\n",
    "请设计算法完成该问题，分析算法设计思路，计算时间复杂度，并基于python编程实现"
   ]
  },
  {
   "cell_type": "markdown",
   "metadata": {},
   "source": [
    "idea：  \n",
    "算法思路：爬到第n阶的方法数等于爬到第n–1阶的方法数加上爬到第n–2阶的方法数（因为最后一步只有跨一阶或两阶两种可能）。用两个变量a、b分别保存前两阶的方法数，每往上一阶就计算一次c=a+b，再把a←b,b←c，一直滚到n，就得到了答案。  \n",
    "时间复杂度：$O(n)$"
   ]
  },
  {
   "cell_type": "code",
   "metadata": {
    "ExecuteTime": {
     "end_time": "2025-05-13T08:43:14.600321Z",
     "start_time": "2025-05-13T08:43:14.584699Z"
    }
   },
   "source": [
    "def floor(n):\n",
    "    if n <= 1:\n",
    "        return 1\n",
    "    a = 1\n",
    "    b = 1\n",
    "    i = 2\n",
    "    while i <= n:\n",
    "        c = a + b\n",
    "        a = b\n",
    "        b = c\n",
    "        i += 1\n",
    "    return b\n",
    "\n",
    "print(\"爬1阶：\", floor(1))\n",
    "print(\"爬2阶：\", floor(2))\n",
    "print(\"爬3阶：\", floor(3))\n",
    "print(\"爬4阶：\", floor(4))\n",
    "print(\"爬5阶：\", floor(5))\n",
    "print(\"爬6阶：\", floor(6))\n",
    "print(\"爬7阶：\", floor(7))\n",
    "print(\"爬8阶：\", floor(8))\n",
    "# your algorithm time complexity is: O(n)"
   ],
   "outputs": [
    {
     "name": "stdout",
     "output_type": "stream",
     "text": [
      "爬1阶： 1\n",
      "爬2阶： 2\n",
      "爬3阶： 3\n",
      "爬4阶： 5\n",
      "爬5阶： 8\n",
      "爬6阶： 13\n",
      "爬7阶： 21\n",
      "爬8阶： 34\n"
     ]
    }
   ],
   "execution_count": 2
  },
  {
   "cell_type": "markdown",
   "metadata": {},
   "source": [
    "## 问题 5 \n",
    "\n",
    "> 0-1背包问题：现在有4块大理石，每个大理石对应的重量和价值使用一个元组表示, 即（重量，价值），4块大理石的重量和价值为：[(5,10), (4,40), (6,30), (3, 50)], 假设你有一辆最大承重为9的小推车，请问使用这个小推车装大理石的最大价值为多少\n",
    "\n",
    "请设计一个算法解决该问题，分析算法设计思路，计算时间复杂度，并基于python编程实现"
   ]
  },
  {
   "cell_type": "markdown",
   "metadata": {},
   "source": [
    "idea：  \n",
    "算法思路：用dp[j]记录“当前推车最大承重为j时能装到的最大价值”，每遇到一块石头，就从大到小看能不能放进去，放了之后的价值如果比原来的dp[j]大，就更新它。倒序遍历保证每块石头只算一次。最后看dp[car]就是用满最大承重时能获得的最大总价值。  \n",
    "时间复杂度：外层遍历了n块石头，内层倒序循环最多跑car步，总共是$O(n×car)$"
   ]
  },
  {
   "cell_type": "code",
   "metadata": {
    "ExecuteTime": {
     "end_time": "2025-05-13T08:43:17.386911Z",
     "start_time": "2025-05-13T08:43:17.367035Z"
    }
   },
   "source": [
    "stones = [(5,10), (4,40), (6,30), (3,50)]\n",
    "car = 9\n",
    "dp = [0] * (car+1)\n",
    "for i in stones:\n",
    "    weight = i[0]  \n",
    "    value = i[1]   \n",
    "    j = car\n",
    "    while j >= weight:\n",
    "        if dp[j-weight] + value > dp[j]:\n",
    "            dp[j] = dp[j-weight] + value\n",
    "        j -= 1\n",
    "print(\"最大价值为\", dp[car])\n",
    "# your algorithm time complexity is:O(n×car)"
   ],
   "outputs": [
    {
     "name": "stdout",
     "output_type": "stream",
     "text": [
      "最大价值为 90\n"
     ]
    }
   ],
   "execution_count": 3
  },
  {
   "cell_type": "markdown",
   "metadata": {},
   "source": [
    "## 问题 6 \n",
    "给定 `n` 个非负整数表示每个宽度为 `1` 的柱子的高度图，计算按此排列的柱子，下雨之后能接多少雨水。\n",
    "\n",
    "\n",
    "\n",
    "<div style=\"text-align:center;width:800px;\"> <img alt=\"\" src=\"./fig/hw3q6.png\"> </div>\n",
    "\n",
    "请分析算法设计思路，计算时间复杂度，并基于python编程实现"
   ]
  },
  {
   "cell_type": "markdown",
   "metadata": {},
   "source": [
    "idea：  \n",
    "算法思路：用两个指针从数组两端往中间走，一边走一边记录那一侧的最高柱高度。每次比较左右指针对应的柱子高度，哪边低就先以那边为基准算雨水，如果它比之前记录的最高还高就更新最高，否则就用（最高−当前高度）累加雨水量，然后把那条指针往里移一步。这样只需一次从两头向中间的线性扫描，就能算出能接多少水。  \n",
    "时间复杂度：$O(n)$"
   ]
  },
  {
   "cell_type": "code",
   "metadata": {
    "ExecuteTime": {
     "end_time": "2025-05-13T08:43:20.533149Z",
     "start_time": "2025-05-13T08:43:20.517529Z"
    }
   },
   "source": [
    "def rain(L):\n",
    "    n = len(L)\n",
    "    if n <= 2:\n",
    "        return 0\n",
    "    l = 0\n",
    "    r = n - 1\n",
    "    left = 0\n",
    "    right = 0\n",
    "    p = 0\n",
    "    while l < r:\n",
    "        if L[l] < L[r]:\n",
    "            if L[l] >= left:\n",
    "                left = L[l]\n",
    "            else:\n",
    "                p += left - L[l]\n",
    "            l += 1\n",
    "        else:\n",
    "            if L[r] >= right:\n",
    "                right = L[r]\n",
    "            else:\n",
    "                p += right - L[r]\n",
    "            r -= 1\n",
    "    return p\n",
    "\n",
    "height = [0,1,0,2,1,0,1,3,2,1,2,1]\n",
    "print(\"能接雨水总量为\", rain(height))\n",
    "\n",
    "height = [4,2,0,3,2,5]\n",
    "print(\"能接雨水总量为\", rain(height))\n",
    "# your algorithm time complexity is:O(n"
   ],
   "outputs": [
    {
     "name": "stdout",
     "output_type": "stream",
     "text": [
      "能接雨水总量为 6\n",
      "能接雨水总量为 9\n"
     ]
    }
   ],
   "execution_count": 4
  },
  {
   "cell_type": "markdown",
   "metadata": {},
   "source": [
    "## 问题 7 \n",
    "\n",
    "**股票投资组合优化**： 假设你是一位投资者，想要在不同的股票中分配你的资金，以最大化你的投资回报。每只股票都有不同的预期收益率和风险。你的目标是选择一些股票，使得总投资金额不超过你的预算，并且预期收益最大化。\n",
    "\n",
    "在这个情况下，你可以将每只股票视为一个“物品”，其重量为投资金额，价值为预期收益率。然后，你可以使用分级背包问题的方法来选择部分股票，以便在预算内获得最大的预期收益。\n",
    "\n",
    "以下是一个简化的例子：\n",
    "\n",
    "假设你有以下三只股票可供选择：\n",
    "\n",
    "1. 股票 A：投资金额 5000 美元，预期收益率 10%\n",
    "2. 股票 B：投资金额 3000 美元，预期收益率 8%\n",
    "3. 股票 C：投资金额 2000 美元，预期收益率 12%\n",
    "\n",
    "请设计算法找到最优投资方案，分析算法设计思路，计算时间复杂度，并基于python编程实现"
   ]
  },
  {
   "cell_type": "markdown",
   "metadata": {},
   "source": [
    "idea：  \n",
    "算法思路：先把股票按收益率从高到低排好，然后就从收益最高的那只开始投，要么投它的全款，要么把剩下的钱都投进去，投完之后把这笔钱带来的收益算上，再从预算里扣掉，一支一支地往下投，直到钱花完或股票投完为止。  \n",
    "时间复杂度：$O(n log n)$"
   ]
  },
  {
   "cell_type": "code",
   "metadata": {
    "ExecuteTime": {
     "end_time": "2025-05-13T08:43:23.292486Z",
     "start_time": "2025-05-13T08:43:23.261245Z"
    }
   },
   "source": [
    "def plan(stock_list, money):\n",
    "    stock_list.sort(key=lambda x: x[2], reverse=True)\n",
    "    remain = money\n",
    "    gain = 0\n",
    "    plan = []\n",
    "    for s in stock_list:\n",
    "        name, cost, rate = s\n",
    "        if remain <= 0:\n",
    "            break\n",
    "        invest = cost if cost <= remain else remain\n",
    "        plan.append([name, invest])\n",
    "        gain += invest * rate\n",
    "        remain -= invest\n",
    "    return plan, gain\n",
    "\n",
    "stocks = [\n",
    "    [\"A\", 5000, 0.10],\n",
    "    [\"B\", 3000, 0.08],\n",
    "    [\"C\", 2000, 0.12],\n",
    "]\n",
    "budget = 7000\n",
    "result, gain = plan(stocks, budget)\n",
    "print(f\"总预算为 {budget}\")\n",
    "print(\"最优投资方案：\")\n",
    "for name, invest in result:\n",
    "    print(f\"  股票 {name} 投资 {invest} 美元\")\n",
    "print(f\"最大预期收益为 {gain} 美元\")\n",
    "# your algorithm time complexity is: O(nlogn)"
   ],
   "outputs": [
    {
     "name": "stdout",
     "output_type": "stream",
     "text": [
      "总预算为 7000\n",
      "最优投资方案：\n",
      "  股票 C 投资 2000 美元\n",
      "  股票 A 投资 5000 美元\n",
      "最大预期收益为 740.0 美元\n"
     ]
    }
   ],
   "execution_count": 5
  },
  {
   "cell_type": "markdown",
   "metadata": {},
   "source": [
    "## 问题 8\n",
    "\n",
    "给你二叉搜索树的根节点 root ，该树中的恰好两个节点的值被错误地交换。请在不改变其结构的情况下，恢复这棵树 。设计算法解决该问题，分析算法设计思路，计算时间复杂度，并基于python编程实现\n",
    "\n",
    "e.g.:\n",
    "---\n",
    "1.\n",
    "\n",
    "<div style=\"text-align:center;width:200px;\"> <img alt=\"\" src=\"./fig/hw3q9-1.jpg\"> </div>\n",
    "输入：root = [1,3,null,null,2]， 输出为：[3,1,null,null,2]， \n",
    "\n",
    "解释：3 不能是 1 的左孩子，因为 3 > 1 。交换 1 和 3 使二叉搜索树有效。\n",
    "\n",
    "2.\n",
    "\n",
    " <div style=\"text-align:center;width:200px;\"> <img alt=\"\" src=\"./fig/hw3q9-1.jpg\"> </div>\n",
    "输入： root=[3,1,4,null,null,2]， 输出为：[2,1,4,null,null,3]\n",
    "\n",
    "解释：2 不能在 3 的右子树中，因为 2 < 3 。交换 2 和 3 使二叉搜索树有效。"
   ]
  },
  {
   "cell_type": "markdown",
   "metadata": {},
   "source": [
    "idea：  \n",
    "算法思路：\n",
    "对二叉搜索树做一次中序遍历，把所有节点按出现顺序收集到一个列表中，把这个列表里节点的原始值取出来，再对这些值进行升序排序，得到正确的中序序列，按照收集到的节点列表顺序，把排好序的值依次写回对应的节点。  \n",
    "时间复杂度：$O(nlogn)$"
   ]
  },
  {
   "cell_type": "code",
   "metadata": {
    "ExecuteTime": {
     "end_time": "2025-05-13T08:43:26.134181Z",
     "start_time": "2025-05-13T08:43:26.101114Z"
    }
   },
   "source": [
    "class TreeNode:\n",
    "    def __init__(self, val):\n",
    "        self.val = val\n",
    "        self.left = None\n",
    "        self.right = None\n",
    "\n",
    "def traverse_inorder(node, elems):\n",
    "    if not node:\n",
    "        return\n",
    "    traverse_inorder(node.left, elems)\n",
    "    elems.append(node)\n",
    "    traverse_inorder(node.right, elems)\n",
    "\n",
    "def fix_bst(root):\n",
    "    elems = []\n",
    "    traverse_inorder(root, elems)\n",
    "    values = [n.val for n in elems]\n",
    "    values.sort()\n",
    "    for i in range(len(elems)):\n",
    "        elems[i].val = values[i]\n",
    "\n",
    "def make_tree(data):\n",
    "    from collections import deque\n",
    "    nodes = [None if x is None else TreeNode(x) for x in data]\n",
    "    for i in range(len(nodes)):\n",
    "        if nodes[i]:\n",
    "            li, ri = 2*i+1, 2*i+2\n",
    "            if li < len(nodes):\n",
    "                nodes[i].left = nodes[li]\n",
    "            if ri < len(nodes):\n",
    "                nodes[i].right = nodes[ri]\n",
    "    return nodes[0] if nodes else None\n",
    "\n",
    "def tree_to_list(root):\n",
    "    from collections import deque\n",
    "    q = deque([root])\n",
    "    out = []\n",
    "    while q:\n",
    "        cur = q.popleft()\n",
    "        if cur:\n",
    "            out.append(cur.val)\n",
    "            q.append(cur.left)\n",
    "            q.append(cur.right)\n",
    "        else:\n",
    "            out.append(None)\n",
    "    while out and out[-1] is None:\n",
    "        out.pop()\n",
    "    return out\n",
    "\n",
    "input1 = [1,3,None,None,2]\n",
    "t1 = make_tree(input1)\n",
    "fix_bst(t1)\n",
    "print(f\"输入：root = {input1}， 输出为：{tree_to_list(t1)}\")\n",
    "\n",
    "input2 = [3,1,4,None,None,2]\n",
    "t2 = make_tree(input2)\n",
    "fix_bst(t2)\n",
    "print(f\"输入：root = {input2}， 输出为：{tree_to_list(t2)}\")\n",
    "# your algorithm time complexity is:O(nlogn)"
   ],
   "outputs": [
    {
     "name": "stdout",
     "output_type": "stream",
     "text": [
      "输入：root = [1, 3, None, None, 2]， 输出为：[3, 1, None, None, 2]\n",
      "输入：root = [3, 1, 4, None, None, 2]， 输出为：[2, 1, 4, None, None, 3]\n"
     ]
    }
   ],
   "execution_count": 6
  },
  {
   "cell_type": "markdown",
   "metadata": {},
   "source": [
    "## 问题 9  \n",
    "\n",
    "给你一个二叉树的根节点 root ，树中每个节点都存放有一个 0 到 9 之间的数字。每条从根节点到叶节点的路径都代表一个数字：\n",
    "\n",
    "> 例如，从根节点到叶节点的路径 1 -> 2 -> 3 表示数字 123 。\n",
    "\n",
    "设计一个算法计算从根节点到叶节点生成的所有数字之和 ，分析算法设计思路，计算时间复杂度，并基于python编程实现\n",
    "\n",
    "叶节点:是指没有子节点的节点。\n",
    "\n",
    "e.g.:\n",
    "---\n",
    "1.\n",
    "\n",
    " <div style=\"text-align:center;width:200px;\"> <img alt=\"figure\" src=\"./fig/hw3q10-1.jpg\"> </div>\n",
    "\n",
    " 输入：root = [1,2,3], 输出：25\n",
    "\n",
    "解释：从根到叶子节点路径 1->2 代表数字 12，1->3 代表数字 13，因此和为 12 + 13 = 25 。\n",
    "\n",
    "2.\n",
    "\n",
    " <div style=\"text-align:center;width:200px;\"> <img alt=\"figure\" src=\"./fig/hw3q10-2.jpg\"> </div>\n",
    "\n",
    " 输入：root = [4,9,0,5,1], 输出：1026\n",
    "\n",
    "解释：从根到叶子节点路径 4->9->5 代表数字 495，4->9->1 代表数字 491，4->0 代表数字 40。因此和为 495 + 491 + 40 = 1026 。"
   ]
  },
  {
   "cell_type": "markdown",
   "metadata": {},
   "source": [
    "idea：  \n",
    "算法思路：用一个栈模拟深度优先遍历，栈里每次保存一个元组 (当前节点, 从根到该节点拼出的数字)。每次弹出后，如果是叶子节点就把累积的数字加到结果里，否则就把它的右子节点和左子节点依次压入栈中，并更新路径数字。直到把所有根→叶的数字都累加上。  \n",
    "时间复杂度：$O(n)$"
   ]
  },
  {
   "cell_type": "code",
   "metadata": {
    "ExecuteTime": {
     "end_time": "2025-05-13T08:43:30.130778Z",
     "start_time": "2025-05-13T08:43:30.100044Z"
    }
   },
   "source": [
    "class TreeNode:\n",
    "    def __init__(self, val):\n",
    "        self.val = val\n",
    "        self.lch = None\n",
    "        self.rch = None\n",
    "\n",
    "def sum_numbers(root_node):\n",
    "    if not root_node:\n",
    "        return 0\n",
    "    ans = 0\n",
    "    stk = [(root_node, root_node.val)]\n",
    "    while stk:\n",
    "        cur_node, num = stk.pop()\n",
    "        if not cur_node.lch and not cur_node.rch:\n",
    "            ans += num\n",
    "        if cur_node.rch:\n",
    "            stk.append((cur_node.rch, num*10 + cur_node.rch.val))\n",
    "        if cur_node.lch:\n",
    "            stk.append((cur_node.lch, num*10 + cur_node.lch.val))\n",
    "    return ans\n",
    "\n",
    "t1 = TreeNode(1)\n",
    "t1.lch = TreeNode(2)\n",
    "t1.rch = TreeNode(3)\n",
    "print(sum_numbers(t1))  \n",
    "\n",
    "t2 = TreeNode(4)\n",
    "t2.lch, t2.rch = TreeNode(9), TreeNode(0)\n",
    "t2.lch.lch, t2.lch.rch = TreeNode(5), TreeNode(1)\n",
    "print(sum_numbers(t2))\n",
    "# your algorithm time complexity is:O(n)"
   ],
   "outputs": [
    {
     "name": "stdout",
     "output_type": "stream",
     "text": [
      "25\n",
      "1026\n"
     ]
    }
   ],
   "execution_count": 7
  },
  {
   "cell_type": "markdown",
   "metadata": {},
   "source": [
    "## 问题 10  \n",
    "\n",
    "给你一个二叉树的根节点 root ， 检查它是否轴对称。\n",
    "\n",
    "1. 分析算法设计思路，计算时间复杂度，并基于python编程实现\n",
    "2. \\* 设计使用递归和迭代两种方法解决这个问题，计算时间复杂度，并基于python编程实现\n",
    "\n",
    "e.g.:\n",
    "---\n",
    "1.\n",
    "\n",
    " <div style=\"text-align:center;width:200px;\"> <img alt=\"figure\" src=\"./fig/hw3q11-1.png\"> </div>\n",
    "\n",
    " 输入：root = [1,2,2,3,4,4,3]， 输出：true\n",
    "\n",
    "解释：二叉树 [1,2,2,3,4,4,3] 对称。\n",
    "\n",
    "2.\n",
    "\n",
    " <div style=\"text-align:center;width:200px;\"> <img alt=\"figure\" src=\"./fig/hw3q11-2.png\"> </div>\n",
    "\n",
    " 输入：root = [1,2,2,null,3,null,3]， 输出：false"
   ]
  },
  {
   "cell_type": "markdown",
   "metadata": {},
   "source": [
    "idea:  \n",
    "算法思路：用一个队列来成对检查左右子树的节点。先把根节点的左右子节点入队，然后循环取出一对节点(a, b)，如果a、b都为空，就跳过，如果只有一个为空或它们的值不相等，立即返回False，否则就把这对节点的孩子按镜像顺序再成对入队，队列空了都没发现不对称，就返回True。  \n",
    "时间复杂度：$O(n)$"
   ]
  },
  {
   "cell_type": "code",
   "metadata": {
    "ExecuteTime": {
     "end_time": "2025-05-13T08:43:33.005278Z",
     "start_time": "2025-05-13T08:43:32.981727Z"
    }
   },
   "source": [
    "class TreeNode:\n",
    "    def __init__(self, val):\n",
    "        self.val = val\n",
    "        self.left = None\n",
    "        self.right = None\n",
    "\n",
    "def check_sym(root_node):\n",
    "    if not root_node:\n",
    "        return True\n",
    "    q = [(root_node.left, root_node.right)]\n",
    "    while q:\n",
    "        n1, n2 = q.pop(0)\n",
    "        if not n1 and not n2:\n",
    "            continue\n",
    "        if not n1 or not n2 or n1.val != n2.val:\n",
    "            return False\n",
    "        q.append((n1.left,  n2.right))\n",
    "        q.append((n1.right, n2.left))\n",
    "    return True\n",
    "\n",
    "t1 = TreeNode(1)\n",
    "t1.left, t1.right = TreeNode(2), TreeNode(2)\n",
    "t1.left.left, t1.left.right = TreeNode(3), TreeNode(4)\n",
    "t1.right.left, t1.right.right = TreeNode(4), TreeNode(3)\n",
    "print(check_sym(t1))\n",
    "\n",
    "t2 = TreeNode(1)\n",
    "t2.left, t2.right = TreeNode(2), TreeNode(2)\n",
    "t2.left.right = TreeNode(3)\n",
    "t2.right.right = TreeNode(3)\n",
    "print(check_sym(t2))\n",
    "# your algorithm time complexity is:O(n)"
   ],
   "outputs": [
    {
     "name": "stdout",
     "output_type": "stream",
     "text": [
      "True\n",
      "False\n"
     ]
    }
   ],
   "execution_count": 8
  },
  {
   "cell_type": "markdown",
   "metadata": {},
   "source": [
    "## 问题 11  \n",
    "\n",
    "给你一个由 '1'（陆地）和 '0'（水）组成的的二维网格，请你计算网格中岛屿的数量。岛屿总是被水包围，并且每座岛屿只能由水平方向和/或竖直方向上相邻的陆地连接形成。\n",
    "\n",
    "此外，你可以假设该网格的四条边均被水包围。\n",
    "\n",
    "分析算法设计思路，计算时间复杂度，并基于python编程实现\n",
    "\n",
    "e.g.:\n",
    "---\n",
    "1.\n",
    "输入：grid = [\n",
    "\n",
    "    [\"1\",\"1\",\"1\",\"1\",\"0\"],\n",
    "\n",
    "    [\"1\",\"1\",\"0\",\"1\",\"0\"], \n",
    "\n",
    "    [\"1\",\"1\",\"0\",\"0\",\"0\"], \n",
    "\n",
    "    [\"0\",\"0\",\"0\",\"0\",\"0\"]  \n",
    "\n",
    "]\n",
    "\n",
    "输出：1\n",
    "\n",
    "2.\n",
    "输入：grid = [\n",
    "\n",
    "    [\"1\",\"1\",\"0\",\"0\",\"0\"],\n",
    "\n",
    "    [\"1\",\"1\",\"0\",\"0\",\"0\"],\n",
    "\n",
    "    [\"0\",\"0\",\"1\",\"0\",\"0\"],\n",
    "\n",
    "    [\"0\",\"0\",\"0\",\"1\",\"1\"]\n",
    "\n",
    "]\n",
    "\n",
    "输出：3"
   ]
  },
  {
   "cell_type": "markdown",
   "metadata": {},
   "source": [
    "idea:  \n",
    "算法思路：先用两重循环遍历每个格子，遇到“1”就把岛屿数加一，然后把该格入队，用BFS将它上下左右相连的所有“1”都访问一遍并改成“0”。这样每座岛只会触发一次BFS，访问过的格子都不会再被重新处理。直到所有格子都检查完。\n",
    "时间复杂度：$O(m×n)$"
   ]
  },
  {
   "cell_type": "code",
   "metadata": {
    "ExecuteTime": {
     "end_time": "2025-05-13T08:43:36.508148Z",
     "start_time": "2025-05-13T08:43:36.476718Z"
    }
   },
   "source": [
    "from collections import deque\n",
    "def isles(mymap):\n",
    "    if not mymap or not mymap[0]:\n",
    "        return 0\n",
    "    rows = len(mymap)\n",
    "    cols = len(mymap[0])\n",
    "    num = 0\n",
    "    moves = [(1,0),(-1,0),(0,1),(0,-1)]\n",
    "    for i in range(rows):\n",
    "        for j in range(cols):\n",
    "            if mymap[i][j] == \"1\":\n",
    "                num += 1\n",
    "                queue = deque([(i, j)])\n",
    "                mymap[i][j] = \"0\"\n",
    "                while queue:\n",
    "                    x, y = queue.popleft()\n",
    "                    for dx, dy in moves:\n",
    "                        nx, ny = x + dx, y + dy\n",
    "                        if 0 <= nx < rows and 0 <= ny < cols and mymap[nx][ny] == \"1\":\n",
    "                            mymap[nx][ny] = \"0\"\n",
    "                            queue.append((nx, ny))\n",
    "    return num\n",
    "\n",
    "g1 = [\n",
    "    [\"1\",\"1\",\"1\",\"1\",\"0\"],\n",
    "    [\"1\",\"1\",\"0\",\"1\",\"0\"],\n",
    "    [\"1\",\"1\",\"0\",\"0\",\"0\"],\n",
    "    [\"0\",\"0\",\"0\",\"0\",\"0\"]\n",
    "]\n",
    "print(isles(g1))\n",
    "\n",
    "g2 = [\n",
    "    [\"1\",\"1\",\"0\",\"0\",\"0\"],\n",
    "    [\"1\",\"1\",\"0\",\"0\",\"0\"],\n",
    "    [\"0\",\"0\",\"1\",\"0\",\"0\"],\n",
    "    [\"0\",\"0\",\"0\",\"1\",\"1\"]\n",
    "]\n",
    "print(isles(g2))\n",
    "# your algorithm time complexity is:"
   ],
   "outputs": [
    {
     "name": "stdout",
     "output_type": "stream",
     "text": [
      "1\n",
      "3\n"
     ]
    }
   ],
   "execution_count": 9
  }
 ],
 "metadata": {
  "language_info": {
   "name": "python"
  },
  "kernelspec": {
   "name": "python3",
   "language": "python",
   "display_name": "Python 3"
  },
  "pycharm": {
   "stem_cell": {
    "cell_type": "raw",
    "source": [],
    "metadata": {
     "collapsed": false
    }
   }
  }
 },
 "nbformat": 4,
 "nbformat_minor": 2
}
